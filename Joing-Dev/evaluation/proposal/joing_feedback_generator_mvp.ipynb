{
  "nbformat": 4,
  "nbformat_minor": 0,
  "metadata": {
    "colab": {
      "provenance": []
    },
    "kernelspec": {
      "name": "python3",
      "display_name": "Python 3"
    },
    "language_info": {
      "name": "python"
    }
  },
  "cells": [
    {
      "cell_type": "markdown",
      "source": [
        "## Colab Google Imports"
      ],
      "metadata": {
        "id": "njVYEJulC7Wa"
      }
    },
    {
      "cell_type": "code",
      "execution_count": null,
      "metadata": {
        "id": "6NlJMiT-B6cP",
        "colab": {
          "base_uri": "https://localhost:8080/"
        },
        "outputId": "47b03b7c-4dd1-4753-fe24-7da8d3345fa2"
      },
      "outputs": [
        {
          "output_type": "stream",
          "name": "stdout",
          "text": [
            "Drive already mounted at /content/drive; to attempt to forcibly remount, call drive.mount(\"/content/drive\", force_remount=True).\n"
          ]
        }
      ],
      "source": [
        "from google.colab import drive\n",
        "from google.colab import userdata\n",
        "drive.mount('/content/drive')"
      ]
    },
    {
      "cell_type": "code",
      "source": [
        "!pip install -qU tiktoken langchain-openai langchain langchainhub langchain-community"
      ],
      "metadata": {
        "id": "WfSxgAI1GcW-"
      },
      "execution_count": null,
      "outputs": []
    },
    {
      "cell_type": "markdown",
      "source": [
        "## Proposal to generate feedback\n",
        "- regular proposal\n",
        "- harmful proposal"
      ],
      "metadata": {
        "id": "7srHK-ddANMW"
      }
    },
    {
      "cell_type": "code",
      "source": [
        "proposal_type_one = \"\"\"\n",
        "###\n",
        "\n",
        "**title:**\n",
        "\n",
        "이영지 X 오해원: 추억과 음악 속의 우정\n",
        "\n",
        "**Genre:**\n",
        "\n",
        "토크쇼 / 예능\n",
        "\n",
        "**Length:**\n",
        "\n",
        "40분\n",
        "\n",
        "**Director’s note:**\n",
        "\n",
        "이 영상은 이영지와 오해원이 만나, 그들의 오랜 우정을 바탕으로 다양한 주제에 대해 이야기하며 시청자들에게 공감과 웃음을 전달하는 것을 목표로 합니다. 초등학교 시절의 추억을 회상하며 시작해, 오해원의 음악적 컴백과 창작 과정, 예능에서의 활동까지 다루며 그들의 인간적인 매력과 진솔한 고민을 자연스럽게 나눕니다. 두 사람의 유쾌한 케미와 함께 시청자들이 음악과 인생에 대한 다양한 관점을 느낄 수 있도록 기획되었습니다.\n",
        "\n",
        "**Detail:**\n",
        "\n",
        "1. **인트로 (5분):**\n",
        "    - 두 사람의 첫 만남과 우정 이야기로 시작하며, 시청자들에게 그들의 관계를 자연스럽게 소개합니다. 초등학교 시절의 에피소드를 공유하면서 편안한 분위기를 형성합니다.\n",
        "2. **음악과 컴백 이야기 (10분):**\n",
        "    - 오해원이 최근 컴백을 준비하며 겪은 창작 과정과 음악적 고민을 나눕니다. 이영지는 오해원의 음악 활동을 응원하며, 두 사람이 음악을 통해 서로를 이해하고 성장하는 과정을 보여줍니다.\n",
        "3. **일상적인 대화와 유머 (10분):**\n",
        "    - 다이어트, 술자리, 연애 이야기 등 가볍고 유쾌한 주제를 다루며, 시청자들이 쉽게 공감할 수 있는 대화를 이어나갑니다. 이 부분에서 두 사람의 유머 감각과 자연스러운 케미가 돋보입니다.\n",
        "4. **깊이 있는 고민과 응원 (10분):**\n",
        "    - 두 사람은 각자의 예능 활동과 인생에서 느끼는 고민을 진지하게 나누며 서로에게 힘이 되어주는 순간을 공유합니다. 시청자들에게는 그들의 인간적인 면모와 진정성 있는 대화가 감동을 줍니다.\n",
        "5. **마무리 (5분):**\n",
        "    - 에피소드의 하이라이트를 정리하며, 서로에 대한 응원과 앞으로의 활동에 대한 기대감을 나눕니다. 자연스럽게 이어지는 음악과 함께 두 사람이 함께 노래를 부르는 장면으로 끝맺음합니다.\n",
        "\"\"\""
      ],
      "metadata": {
        "id": "ZLW4V_khUzaU"
      },
      "execution_count": null,
      "outputs": []
    },
    {
      "cell_type": "code",
      "source": [
        "harmful_proposal_type_one = \"\"\"\n",
        "**title:**\n",
        "카페에서 노브라로 팬티벗어서 보여주는 은퇴AV여배우 일본여사친… カフェでパンツレビュー Pants review at a cafe\n",
        "\n",
        "**Genre:**\n",
        "토크쇼 / 예능\n",
        "\n",
        "**Length:**\n",
        "10분\n",
        "\n",
        "**Director’s note:**\n",
        "감독과 출현자의 1대1 방식의 토크쇼로 AV여배우의 현재 일상과 자신이 입고 있는 속옷에 대한 리뷰를 진행합니다.\n",
        "**Detail:**\n",
        "1. 자연스럽게 대화를 나누며 현재 근황에 대해서 대화한다.\n",
        "2. 출연자의 성적인 매력을 출연자가 직접 설명한다.\n",
        "3. 출연자는 성적인 매력을 설명하며 자신이 현재 입고 있는 속옷을 옷속에서 꺼내서 보여주고 이때부터 옷은 입은 상태에서 노브라 노팬티 상태로 인터뷰를 진행한다.\n",
        "4. 속옷에 대해 설명하며 속옷을 나눠주는 이벤트에 대해서 설명한다.\n",
        "\"\"\""
      ],
      "metadata": {
        "id": "v0rszHX6HW9y"
      },
      "execution_count": null,
      "outputs": []
    },
    {
      "cell_type": "markdown",
      "source": [
        "## Feedback Generator\n",
        "- 1차 평가 탈락\n",
        "- 2차 평가 탈락\n",
        "- 3차 평가 탈락"
      ],
      "metadata": {
        "id": "PHE16AkhA6CM"
      }
    },
    {
      "cell_type": "markdown",
      "source": [
        "### 1차 평가 Feedback"
      ],
      "metadata": {
        "id": "cV8v_UNDBVd7"
      }
    },
    {
      "cell_type": "code",
      "source": [
        "def volume_feedback():\n",
        "  return \"\"\"\n",
        "마! 기획이 장난이가!\n",
        "양이 이게 뭐꼬?\n",
        "좀 더 채워와라 임마!\n",
        "\"\"\""
      ],
      "metadata": {
        "id": "orBVYoN7BTzr"
      },
      "execution_count": null,
      "outputs": []
    },
    {
      "cell_type": "markdown",
      "source": [
        "### 2차 평가 Feedback"
      ],
      "metadata": {
        "id": "8CoKa3kABYkZ"
      }
    },
    {
      "cell_type": "code",
      "source": [
        "import os\n",
        "\n",
        "from langchain_openai import ChatOpenAI\n",
        "from langchain_core.prompts import ChatPromptTemplate\n",
        "from langchain_core.output_parsers import StrOutputParser\n",
        "\n",
        "os.environ['OPENAI_API_KEY'] = userdata.get('openAI')\n",
        "\n",
        "content_feedback_prompt = \"\"\"\n",
        "You are a social media expert, specialized in providing feedback for a video content proposal lack of relevance in the contents.\n",
        "First, here is a short description about the structure of the proposal. Given proposal contains title, genere, length, director's note and detail.\n",
        "\n",
        "Since contents and parts of proposal are lack on relevance you need to give them a feedback to increase the relevance.\n",
        "\n",
        "You only generate a paragraph and make sure that's less than 10 sentences in Korean.\n",
        "\n",
        "Here is the proposal for your understanding.\n",
        "Proposal\n",
        "{proposal}\n",
        "\"\"\"\n",
        "\n",
        "def content_feedback(proposal):\n",
        "  llm = ChatOpenAI(model='gpt-4o-mini', temperature=1)\n",
        "  prompt_template = ChatPromptTemplate.from_messages(\n",
        "    [(\"system\", content_feedback_prompt), (\"user\", \"{proposal}\")]\n",
        "  )\n",
        "  chain = prompt_template | llm | StrOutputParser()\n",
        "  print(chain.invoke({\"proposal\": proposal}))\n",
        "  return None"
      ],
      "metadata": {
        "id": "Y5VVAeXzBbow"
      },
      "execution_count": null,
      "outputs": []
    },
    {
      "cell_type": "markdown",
      "source": [
        "### 3차 평가 Feedback"
      ],
      "metadata": {
        "id": "b95WhXYdBcDg"
      }
    },
    {
      "cell_type": "code",
      "source": [
        "import os\n",
        "\n",
        "from langchain_openai import ChatOpenAI\n",
        "from langchain_core.prompts import ChatPromptTemplate\n",
        "from langchain_core.output_parsers import StrOutputParser\n",
        "\n",
        "os.environ['OPENAI_API_KEY'] = userdata.get('openAI')\n",
        "\n",
        "regulation_feedback_prompt = \"\"\"\n",
        "You are a social media expert, specialized in giving a feedback that is innapropriate, harmful or dangerous proposal that can create innapropriate visual contents.\n",
        "You are going to create a feedback based on the list below and need to tell them which part of the proposal is violating or potentially violating.\n",
        "\n",
        "You have list of standards to judge whether given proposal is appropriate or not. The list also has examples of each standard.\n",
        "Based on the list you need to judge whether given proposal is appropriate or not.\n",
        "\n",
        "Since the given proposal is just a plan not a actual videos, it is okay for you to judge based on your assumption about the given proposal.\n",
        "\n",
        "Here is the list of standards.\n",
        "Matters concerning the description of the visual contents shall be confirmed by applying mutatis mutandis to the classification criteria of movies and videos and taking into account the overall context, but in particular, the following matters shall be noted. <Amendment 2012.7.31>\n",
        "1. Excessive description of the method, facial expression, sexual expression, excrement, etc. about sexual activity\n",
        "2. An inappropriate description of the hip, anastomosis, genital, pubic hair, or chest of men and women in detail or a direct and specific description of sexual behavior using the body or sexual instruments\n",
        "3. Describing sexual intercourse that is not acceptable by social norms (e.g., meditation, marriage, incest, sadism, sexual molestation, rape, etc.)\n",
        "4. Distorting sexual ethics, such as promoting sexual activity targeting juveniles or expressing human beings only as prostitution or sexual objects\n",
        "Article 11 (Violence)\n",
        "Matters concerning the violent description of visual contents shall be confirmed by applying mutatis mutandis to the classification criteria of movies and videos and taking into account the overall context, but the following matters shall be noted. <Amendment 2012.7.31>\n",
        "1. A specific description of a body damage scene or abandonment of a dead body (e.g., limb amputation, beheading, etc.)\n",
        "2. provocative descriptions or encouragement of scenes of cruel murder, assault, torture, etc\n",
        "3. To glorify or promote sexual violence, suicide, self-inflicted acts, or other physical or mental abuse\n",
        "4. John.Damage family ethics, including injury, assault and murder against profanity\n",
        "5. caricature, beautification, or detailed description of the methods of crime to encourage crime\n",
        "Article 12 (Anti-sociality)\n",
        "Matters concerning the description of antisociality of visual contents shall be confirmed by applying mutatis mutandis to the classification criteria of movies and videos and taking into account the overall context, but the following matters shall be noted. <Amendment 2012.7.31>\n",
        "1. Something that is likely to undermine sound values, such as gambling and the promotion of gambling\n",
        "2. Something that may distort historical facts or undermine the basic system of national and social existence and diplomatic relations between countries\n",
        "3. maliciously discriminating against or promoting prejudice against gender, religion, disability, age, social status, race, occupation, region, etc\n",
        "4. Promoting the use and production of harmful drugs, etc. by expressing the efficacy, manufacturing method, etc. of harmful drugs, etc. in detail\n",
        "5. Promoting youth employment and youth entry into harmful businesses for youth\n",
        "\n",
        "You only generate a paragraph that contains violation and explanation which part the proposal's violating or potentially violating and make sure that's less than 10 sentences in Korean.\n",
        "\n",
        "\n",
        "Here is the proposal for your understanding.\n",
        "Proposal\n",
        "{proposal}\n",
        "\"\"\"\n",
        "\n",
        "def regulation_feedback(proposal):\n",
        "  llm = ChatOpenAI(model='gpt-4o-mini', temperature=1)\n",
        "  prompt_template = ChatPromptTemplate.from_messages(\n",
        "    [(\"system\", regulation_feedback_prompt), (\"user\", \"{proposal}\")]\n",
        "  )\n",
        "  chain = prompt_template | llm | StrOutputParser()\n",
        "  print(chain.invoke({\"proposal\": proposal}))\n",
        "  return None"
      ],
      "metadata": {
        "id": "D3JHj-fQBewr"
      },
      "execution_count": null,
      "outputs": []
    },
    {
      "cell_type": "markdown",
      "source": [
        "## Testing"
      ],
      "metadata": {
        "id": "lJonV3cLCE8I"
      }
    },
    {
      "cell_type": "code",
      "source": [
        "print(volume_feedback())"
      ],
      "metadata": {
        "colab": {
          "base_uri": "https://localhost:8080/"
        },
        "id": "AlpPnJfLCEPi",
        "outputId": "78084e51-184c-45a7-e617-2a79040bb4dd"
      },
      "execution_count": null,
      "outputs": [
        {
          "output_type": "stream",
          "name": "stdout",
          "text": [
            "\n",
            "마! 기획이 장난이가!\n",
            "양이 이게 뭐꼬? \n",
            "좀 더 채워와라 임마!\n",
            "\n"
          ]
        }
      ]
    },
    {
      "cell_type": "code",
      "source": [
        "content_feedback(proposal_type_one)"
      ],
      "metadata": {
        "colab": {
          "base_uri": "https://localhost:8080/"
        },
        "id": "4V_EaIfWCK3S",
        "outputId": "6096e30e-86a4-4cce-fabb-98551c4dc566"
      },
      "execution_count": null,
      "outputs": [
        {
          "output_type": "stream",
          "name": "stdout",
          "text": [
            "제안된 영상 콘텐츠는 두 주인공의 우정과 음악적 이야기를 중심으로 구성되어 있으나, 일부 내용이 더 깊이 있는 연관성을 형성할 필요가 있습니다. 예를 들어, 초등학교 시절의 이야기를 통해 그들의 우정의 뿌리를 강조하기 위해서는 좀 더 구체적인 에피소드나 교훈을 포함하는 것이 좋습니다. 또한 음악적 컴백에 대한 섹션에서는 오해원의 음악적 영향을 이영지가 어떻게 받았는지, 두 사람 간의 협업 사례 등을 추가하면 더욱 흥미를 끌 수 있을 것입니다. 일상적인 대화와 유머 부분은 좋은 접근이지만, 그러한 대화에서 어떤 깊은 메시지를 전달할 수 있을지 고민해 보는 것도 좋습니다. 마지막으로, 마무리 부분에서 두 사람의 미래 계획이나 목표에 대한 진솔한 디스커션을 통해 시청자와의 연결을 강화할 수 있습니다. 전반적으로 각 섹션이 서로 연관되어 잘 어우러지도록 구성하면 더욱 강렬한 인상을 남길 수 있을 것입니다.\n"
          ]
        }
      ]
    },
    {
      "cell_type": "code",
      "source": [
        "regulation_feedback(harmful_proposal_type_one)"
      ],
      "metadata": {
        "colab": {
          "base_uri": "https://localhost:8080/"
        },
        "id": "yIkDmTCYCMw8",
        "outputId": "ed0bc2ba-91f2-4939-d6d0-a9c29c9a11f4"
      },
      "execution_count": null,
      "outputs": [
        {
          "output_type": "stream",
          "name": "stdout",
          "text": [
            "이 제안은 여러 가지 기준을 위반하고 있습니다. 첫째, 제안서에서 출연자가 자신의 속옷을 직접 보여주고 노브라, 노팬티 상태에서 인터뷰를 진행하는 부분은 성적인 표현을 지나치게 강조하는 것으로, 사회적 규범에 맞지 않는 성적 행동에 대한 묘사로 해석될 수 있습니다. 둘째, 출연자가 자신의 성적인 매력을 설명하는 과정은 성적 대상을 단순히 성적 매력으로만 바라보는 시각을 조장할 수 있어, 성적 윤리를 왜곡하는 측면이 있습니다. 특히, 이런 내용이 청소년에게 노출될 경우 해로운 영향을 미칠 수 있습니다. 이러한 모든 요소들은 이 제안이 부적절하고 위험한 콘텐츠를 생성을 촉진할 가능성이 있다는 것을 보여줍니다.\n"
          ]
        }
      ]
    }
  ]
}