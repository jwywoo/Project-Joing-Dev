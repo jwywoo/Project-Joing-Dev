{
  "nbformat": 4,
  "nbformat_minor": 0,
  "metadata": {
    "colab": {
      "provenance": []
    },
    "kernelspec": {
      "name": "python3",
      "display_name": "Python 3"
    },
    "language_info": {
      "name": "python"
    }
  },
  "cells": [
    {
      "cell_type": "markdown",
      "source": [
        "## Colab Google Imports"
      ],
      "metadata": {
        "id": "njVYEJulC7Wa"
      }
    },
    {
      "cell_type": "code",
      "execution_count": 1,
      "metadata": {
        "id": "6NlJMiT-B6cP",
        "colab": {
          "base_uri": "https://localhost:8080/"
        },
        "outputId": "1b2e9d9f-471c-4c18-94e2-b805cc481868"
      },
      "outputs": [
        {
          "output_type": "stream",
          "name": "stdout",
          "text": [
            "Mounted at /content/drive\n"
          ]
        }
      ],
      "source": [
        "from google.colab import drive\n",
        "from google.colab import userdata\n",
        "drive.mount('/content/drive')"
      ]
    },
    {
      "cell_type": "code",
      "source": [
        "!pip install -qU tiktoken langchain-openai langchain langchainhub langchain-community"
      ],
      "metadata": {
        "id": "WfSxgAI1GcW-",
        "colab": {
          "base_uri": "https://localhost:8080/"
        },
        "outputId": "4d6335b7-5945-4fb4-f980-34a17364281f"
      },
      "execution_count": 2,
      "outputs": [
        {
          "output_type": "stream",
          "name": "stdout",
          "text": [
            "\u001b[2K     \u001b[90m━━━━━━━━━━━━━━━━━━━━━━━━━━━━━━━━━━━━━━━━\u001b[0m \u001b[32m50.4/50.4 kB\u001b[0m \u001b[31m3.1 MB/s\u001b[0m eta \u001b[36m0:00:00\u001b[0m\n",
            "\u001b[2K   \u001b[90m━━━━━━━━━━━━━━━━━━━━━━━━━━━━━━━━━━━━━━━━\u001b[0m \u001b[32m1.2/1.2 MB\u001b[0m \u001b[31m20.9 MB/s\u001b[0m eta \u001b[36m0:00:00\u001b[0m\n",
            "\u001b[2K   \u001b[90m━━━━━━━━━━━━━━━━━━━━━━━━━━━━━━━━━━━━━━━━\u001b[0m \u001b[32m49.7/49.7 kB\u001b[0m \u001b[31m3.5 MB/s\u001b[0m eta \u001b[36m0:00:00\u001b[0m\n",
            "\u001b[2K   \u001b[90m━━━━━━━━━━━━━━━━━━━━━━━━━━━━━━━━━━━━━━━━\u001b[0m \u001b[32m1.0/1.0 MB\u001b[0m \u001b[31m44.2 MB/s\u001b[0m eta \u001b[36m0:00:00\u001b[0m\n",
            "\u001b[2K   \u001b[90m━━━━━━━━━━━━━━━━━━━━━━━━━━━━━━━━━━━━━━━━\u001b[0m \u001b[32m2.4/2.4 MB\u001b[0m \u001b[31m63.8 MB/s\u001b[0m eta \u001b[36m0:00:00\u001b[0m\n",
            "\u001b[2K   \u001b[90m━━━━━━━━━━━━━━━━━━━━━━━━━━━━━━━━━━━━━━━━\u001b[0m \u001b[32m404.4/404.4 kB\u001b[0m \u001b[31m25.5 MB/s\u001b[0m eta \u001b[36m0:00:00\u001b[0m\n",
            "\u001b[2K   \u001b[90m━━━━━━━━━━━━━━━━━━━━━━━━━━━━━━━━━━━━━━━━\u001b[0m \u001b[32m295.8/295.8 kB\u001b[0m \u001b[31m18.3 MB/s\u001b[0m eta \u001b[36m0:00:00\u001b[0m\n",
            "\u001b[2K   \u001b[90m━━━━━━━━━━━━━━━━━━━━━━━━━━━━━━━━━━━━━━━━\u001b[0m \u001b[32m383.7/383.7 kB\u001b[0m \u001b[31m23.7 MB/s\u001b[0m eta \u001b[36m0:00:00\u001b[0m\n",
            "\u001b[2K   \u001b[90m━━━━━━━━━━━━━━━━━━━━━━━━━━━━━━━━━━━━━━━━\u001b[0m \u001b[32m76.4/76.4 kB\u001b[0m \u001b[31m5.3 MB/s\u001b[0m eta \u001b[36m0:00:00\u001b[0m\n",
            "\u001b[2K   \u001b[90m━━━━━━━━━━━━━━━━━━━━━━━━━━━━━━━━━━━━━━━━\u001b[0m \u001b[32m78.0/78.0 kB\u001b[0m \u001b[31m6.1 MB/s\u001b[0m eta \u001b[36m0:00:00\u001b[0m\n",
            "\u001b[2K   \u001b[90m━━━━━━━━━━━━━━━━━━━━━━━━━━━━━━━━━━━━━━━━\u001b[0m \u001b[32m325.2/325.2 kB\u001b[0m \u001b[31m20.3 MB/s\u001b[0m eta \u001b[36m0:00:00\u001b[0m\n",
            "\u001b[2K   \u001b[90m━━━━━━━━━━━━━━━━━━━━━━━━━━━━━━━━━━━━━━━━\u001b[0m \u001b[32m49.3/49.3 kB\u001b[0m \u001b[31m3.4 MB/s\u001b[0m eta \u001b[36m0:00:00\u001b[0m\n",
            "\u001b[2K   \u001b[90m━━━━━━━━━━━━━━━━━━━━━━━━━━━━━━━━━━━━━━━━\u001b[0m \u001b[32m141.9/141.9 kB\u001b[0m \u001b[31m11.1 MB/s\u001b[0m eta \u001b[36m0:00:00\u001b[0m\n",
            "\u001b[2K   \u001b[90m━━━━━━━━━━━━━━━━━━━━━━━━━━━━━━━━━━━━━━━━\u001b[0m \u001b[32m54.5/54.5 kB\u001b[0m \u001b[31m3.2 MB/s\u001b[0m eta \u001b[36m0:00:00\u001b[0m\n",
            "\u001b[2K   \u001b[90m━━━━━━━━━━━━━━━━━━━━━━━━━━━━━━━━━━━━━━━━\u001b[0m \u001b[32m58.3/58.3 kB\u001b[0m \u001b[31m3.5 MB/s\u001b[0m eta \u001b[36m0:00:00\u001b[0m\n",
            "\u001b[?25h"
          ]
        }
      ]
    },
    {
      "cell_type": "code",
      "source": [
        "harmful_proposal_type_one = \"\"\"\n",
        "**title:**\n",
        "카페에서 노브라로 팬티벗어서 보여주는 은퇴AV여배우 일본여사친… カフェでパンツレビュー Pants review at a cafe\n",
        "\n",
        "**Genre:**\n",
        "토크쇼 / 예능\n",
        "\n",
        "**Length:**\n",
        "10분\n",
        "\n",
        "**Director’s note:**\n",
        "감독과 출현자의 1대1 방식의 토크쇼로 AV여배우의 현재 일상과 자신이 입고 있는 속옷에 대한 리뷰를 진행합니다.\n",
        "**Detail:**\n",
        "1. 자연스럽게 대화를 나누며 현재 근황에 대해서 대화한다.\n",
        "2. 출연자의 성적인 매력을 출연자가 직접 설명한다.\n",
        "3. 출연자는 성적인 매력을 설명하며 자신이 현재 입고 있는 속옷을 옷속에서 꺼내서 보여주고 이때부터 옷은 입은 상태에서 노브라 노팬티 상태로 인터뷰를 진행한다.\n",
        "4. 속옷에 대해 설명하며 속옷을 나눠주는 이벤트에 대해서 설명한다.\n",
        "\"\"\""
      ],
      "metadata": {
        "id": "IrlUJjzPvr6H"
      },
      "execution_count": 25,
      "outputs": []
    },
    {
      "cell_type": "code",
      "source": [
        "proposal_type_one = \"\"\"\n",
        "###\n",
        "\n",
        "**title:**\n",
        "\n",
        "이영지 X 오해원: 추억과 음악 속의 우정\n",
        "\n",
        "**Genre:**\n",
        "\n",
        "토크쇼 / 예능\n",
        "\n",
        "**Length:**\n",
        "\n",
        "40분\n",
        "\n",
        "**Director’s note:**\n",
        "\n",
        "이 영상은 이영지와 오해원이 만나, 그들의 오랜 우정을 바탕으로 다양한 주제에 대해 이야기하며 시청자들에게 공감과 웃음을 전달하는 것을 목표로 합니다. 초등학교 시절의 추억을 회상하며 시작해, 오해원의 음악적 컴백과 창작 과정, 예능에서의 활동까지 다루며 그들의 인간적인 매력과 진솔한 고민을 자연스럽게 나눕니다. 두 사람의 유쾌한 케미와 함께 시청자들이 음악과 인생에 대한 다양한 관점을 느낄 수 있도록 기획되었습니다.\n",
        "\n",
        "**Detail:**\n",
        "\n",
        "1. **인트로 (5분):**\n",
        "    - 두 사람의 첫 만남과 우정 이야기로 시작하며, 시청자들에게 그들의 관계를 자연스럽게 소개합니다. 초등학교 시절의 에피소드를 공유하면서 편안한 분위기를 형성합니다.\n",
        "2. **음악과 컴백 이야기 (10분):**\n",
        "    - 오해원이 최근 컴백을 준비하며 겪은 창작 과정과 음악적 고민을 나눕니다. 이영지는 오해원의 음악 활동을 응원하며, 두 사람이 음악을 통해 서로를 이해하고 성장하는 과정을 보여줍니다.\n",
        "3. **일상적인 대화와 유머 (10분):**\n",
        "    - 다이어트, 술자리, 연애 이야기 등 가볍고 유쾌한 주제를 다루며, 시청자들이 쉽게 공감할 수 있는 대화를 이어나갑니다. 이 부분에서 두 사람의 유머 감각과 자연스러운 케미가 돋보입니다.\n",
        "4. **깊이 있는 고민과 응원 (10분):**\n",
        "    - 두 사람은 각자의 예능 활동과 인생에서 느끼는 고민을 진지하게 나누며 서로에게 힘이 되어주는 순간을 공유합니다. 시청자들에게는 그들의 인간적인 면모와 진정성 있는 대화가 감동을 줍니다.\n",
        "5. **마무리 (5분):**\n",
        "    - 에피소드의 하이라이트를 정리하며, 서로에 대한 응원과 앞으로의 활동에 대한 기대감을 나눕니다. 자연스럽게 이어지는 음악과 함께 두 사람이 함께 노래를 부르는 장면으로 끝맺음합니다.\n",
        "\"\"\""
      ],
      "metadata": {
        "id": "ZLW4V_khUzaU"
      },
      "execution_count": 4,
      "outputs": []
    },
    {
      "cell_type": "code",
      "source": [
        "proposal_type_two = \"\"\"\n",
        "**title:**\n",
        "\n",
        "이영지 X 오해원: 음악과 우정 이야기\n",
        "\n",
        "**genre:**\n",
        "\n",
        "토크쇼 / 예능\n",
        "\n",
        "**length:**\n",
        "\n",
        "40분\n",
        "\n",
        "**target audiences:**\n",
        "\n",
        "- 10대 후반 ~ 30대 초반\n",
        "- 이영지, 오해원의 팬\n",
        "- 음악, 예능, 창작 과정에 관심 있는 사람들\n",
        "- 가벼운 웃음과 진지한 대화를 모두 즐기는 시청자\n",
        "\n",
        "**director’s note:**\n",
        "\n",
        "이 영상은 이영지와 오해원이 함께 나누는 진솔한 대화를 통해 두 사람의 음악적 여정과 우정을 조명하는 것을 목표로 합니다. 그들의 솔직한 고민과 성장 과정, 그리고 일상 속의 유머를 나누며 시청자들에게 공감과 웃음을 전하는 동시에, 창작과 예능에 대한 새로운 시각을 제공합니다. 이를 통해 두 사람의 인간적이고 진정성 있는 모습을 자연스럽게 전달하고자 합니다.\n",
        "\n",
        "**detail:**\n",
        "\n",
        "1. **오프닝 (5분):**\n",
        "    - 두 사람의 첫 만남과 오랜 우정 이야기로 시작해, 초등학교 시절의 추억을 회상하며 자연스럽게 대화의 문을 엽니다. 시청자들이 두 사람의 관계에 공감할 수 있도록 친근한 분위기를 형성합니다.\n",
        "2. **음악과 창작 이야기 (10분):**\n",
        "    - 오해원의 최근 컴백과 음악적 고민을 중심으로, 그의 창작 과정과 이영지의 음악적 조언을 나눕니다. 이 대화는 두 사람의 예술적 성장을 보여주며, 시청자들에게 음악에 대한 새로운 시각을 제공합니다.\n",
        "3. **일상적인 유머와 공감 (10분):**\n",
        "    - 다이어트, 술자리 에피소드, 연애 경험 등을 주제로 한 가벼운 대화로 분위기를 전환하며, 두 사람의 유쾌한 케미를 강조합니다. 이 부분은 시청자들에게 웃음을 선사하며, 두 사람의 자연스러운 매력을 부각시킵니다.\n",
        "4. **예능 활동과 고민 (10분):**\n",
        "    - 예능 출연에 대한 부담감과 개인적 고민을 솔직하게 나누며 서로를 응원합니다. 이 대화를 통해 시청자들은 그들이 느끼는 부담감과 성장을 이해하고 공감하게 됩니다.\n",
        "5. **마무리 (5분):**\n",
        "    - 두 사람의 우정을 정리하며, 앞으로의 활동 계획과 기대감을 나누는 대화로 마무리됩니다. 음악과 함께 끝나는 편안한 엔딩은 시청자들에게 따뜻한 여운을 남깁니다.\n",
        "\"\"\""
      ],
      "metadata": {
        "id": "lwwFFxcLV0TV"
      },
      "execution_count": 5,
      "outputs": []
    },
    {
      "cell_type": "code",
      "source": [
        "proposal_type_three = \"\"\"\n",
        "**title:**\n",
        "\n",
        "이영지 X 오해원: 추억과 음악의 하모니\n",
        "\n",
        "**genre:**\n",
        "\n",
        "토크쇼 / 예능\n",
        "\n",
        "**length:**\n",
        "\n",
        "40분\n",
        "\n",
        "**target audiences:**\n",
        "\n",
        "- 10대 후반 ~ 30대 초반\n",
        "- 이영지와 오해원의 팬\n",
        "- 음악 및 창작 과정에 관심 있는 사람\n",
        "- 웃음과 진지한 대화를 함께 즐기는 시청자\n",
        "\n",
        "**goals:**\n",
        "\n",
        "- 두 아티스트의 솔직한 대화와 유머로 인해 팬들의 공감과 친밀감 상승\n",
        "- 오해원의 컴백과 음악에 대한 이야기를 통해 팬들의 관심과 기대감 고조\n",
        "- 이영지와 오해원의 케미스트리가 시청자들에게 즐거움과 힐링을 제공\n",
        "- 다양한 주제를 다루면서 시청자들에게 웃음과 동시에 깊이 있는 이야기를 전달\n",
        "\n",
        "**items:**\n",
        "\n",
        "- 과거 추억을 되짚는 사진이나 영상\n",
        "- 오해원의 신곡 미리 듣기 및 컴백 관련 에피소드\n",
        "- 일상 속에서 자연스럽게 드러나는 유머와 공감\n",
        "- 서로에 대한 응원과 격려를 담은 대화\n",
        "- 즉석에서 부르는 노래로 엔딩\n",
        "\n",
        "**detail:**\n",
        "\n",
        "1. **인트로 (5분):**\n",
        "    - 두 사람의 첫 만남과 초등학교 시절의 추억을 공유하며 자연스럽게 대화를 시작합니다. 과거 사진이나 에피소드를 통해 시청자들이 두 사람의 우정을 느낄 수 있도록 합니다.\n",
        "2. **음악과 창작 이야기 (10분):**\n",
        "    - 오해원의 최근 컴백과 그 과정에서 느낀 창작의 어려움, 음악적 고민을 이영지와 나누며 깊이 있는 대화를 이어갑니다. 이 대화를 통해 시청자들에게 아티스트로서의 면모를 강조합니다.\n",
        "3. **일상적인 유머와 공감 (10분):**\n",
        "    - 다이어트, 연애 이야기, 술자리 에피소드 등 가벼운 주제를 통해 두 사람의 유쾌한 케미가 돋보이는 부분입니다. 가벼운 농담과 서로를 향한 장난이 주를 이루며, 시청자들에게 큰 웃음을 제공합니다.\n",
        "4. **예능 활동과 고민 (10분):**\n",
        "    - 오해원의 예능 활동에서 느끼는 부담감과 개인적 고민을 나누며 서로를 응원합니다. 이 부분에서는 두 사람의 인간적인 면모가 돋보이며, 시청자들에게 감동을 전합니다.\n",
        "5. **마무리 (5분):**\n",
        "    - 두 사람은 서로의 활동을 응원하며 앞으로의 계획과 기대감을 나눕니다. 마지막으로 함께 즉석에서 노래를 부르며 편안한 분위기로 엔딩을 장식합니다.\n",
        "\"\"\""
      ],
      "metadata": {
        "id": "R_SUrGbeV4pd"
      },
      "execution_count": 6,
      "outputs": []
    },
    {
      "cell_type": "code",
      "source": [
        "proposal_type_four = \"\"\"\n",
        "**title:**\n",
        "\n",
        "이영지 X 오해원: 음악과 우정의 리듬\n",
        "\n",
        "**genre:**\n",
        "\n",
        "토크쇼 / 예능\n",
        "\n",
        "**length:**\n",
        "\n",
        "40분\n",
        "\n",
        "**target audience:**\n",
        "\n",
        "- 10대 후반 ~ 30대 초반\n",
        "- 이영지와 오해원의 팬\n",
        "- 음악, 창작 과정 및 예능에 관심 있는 사람들\n",
        "- 유쾌한 대화와 감동적인 순간을 함께 즐기고 싶은 시청자\n",
        "\n",
        "**selling point:**\n",
        "\n",
        "- 이영지와 오해원의 자연스러운 케미와 유머\n",
        "- 오해원의 신곡 및 음악적 고민을 진솔하게 풀어내며 창작 과정을 엿볼 수 있는 기회\n",
        "- 예능 활동에서 느끼는 두 사람의 진지한 고민과 솔직한 이야기\n",
        "- 일상적이면서도 공감 가능한 대화로 팬들과 더욱 가깝게 소통\n",
        "- 즉석 노래, 다이어트 에피소드 등 다양한 아이템을 통한 다채로운 즐거움\n",
        "\n",
        "**detail:**\n",
        "\n",
        "1. **인트로 (5분):**\n",
        "    - 두 사람의 첫 만남과 초등학교 시절의 추억을 나누며 가벼운 웃음으로 시작. 과거 사진이나 에피소드 등을 보여주며 친밀한 분위기를 형성합니다.\n",
        "2. **음악 이야기 (10분):**\n",
        "    - 오해원의 최근 컴백과 음악적 고민을 이영지와 나누며, 창작 과정에서의 어려움과 성취감을 이야기합니다. 오해원의 신곡 미리 듣기와 비하인드 스토리도 공유해 시청자들의 기대를 높입니다.\n",
        "3. **일상 이야기와 유머 (10분):**\n",
        "    - 다이어트, 연애, 술자리 에피소드 등 가볍고 유쾌한 주제로 대화를 이어갑니다. 두 사람의 자연스러운 유머와 장난을 통해 웃음을 유도하며, 공감할 수 있는 에피소드를 나눕니다.\n",
        "4. **예능 활동과 성장 (10분):**\n",
        "    - 오해원과 이영지가 각각 예능에서 느끼는 부담감과 고민을 솔직하게 털어놓습니다. 서로에 대한 응원과 위로를 나누며 시청자들에게 진정성 있는 순간을 제공합니다.\n",
        "5. **엔딩 (5분):**\n",
        "    - 앞으로의 활동 계획과 서로에 대한 기대감을 나누며 마무리. 두 사람은 즉석에서 노래를 부르며 편안하고 따뜻한 분위기로 에피소드를 마칩니다.\n",
        "\"\"\""
      ],
      "metadata": {
        "id": "PiANN8sQV7X8"
      },
      "execution_count": 7,
      "outputs": []
    },
    {
      "cell_type": "markdown",
      "source": [
        "## First Evaluation: Volume\n"
      ],
      "metadata": {
        "id": "z-UaFC0mC6I0"
      }
    },
    {
      "cell_type": "code",
      "source": [
        "import tiktoken\n",
        "def volume_evaluation(proposal):\n",
        "  print(\"volume check!\")\n",
        "  tokenizer = tiktoken.encoding_for_model(\"gpt-4o-mini\")\n",
        "  print(len(tokenizer.encode(proposal)))\n",
        "  return (len(tokenizer.encode(proposal))) > 200"
      ],
      "metadata": {
        "id": "kzDMfZAVC6ok"
      },
      "execution_count": 22,
      "outputs": []
    },
    {
      "cell_type": "markdown",
      "source": [
        "## Second Evaluation: Content\n"
      ],
      "metadata": {
        "id": "nhoeCE40DQlv"
      }
    },
    {
      "cell_type": "code",
      "source": [
        "import os\n",
        "\n",
        "from langchain_openai import ChatOpenAI\n",
        "from langchain_core.prompts import ChatPromptTemplate\n",
        "from langchain_core.output_parsers import StrOutputParser\n",
        "\n",
        "os.environ['OPENAI_API_KEY'] = userdata.get('openAI')\n",
        "\n",
        "# Given proposal contains title, genere, length, director's note and detail\n",
        "# Given proposal contains title, genere, length, target audience, director's note and detail\n",
        "# Given proposal contains title, genere, length, target audience, goals, items and  detail\n",
        "# Given proposal contains title, genere, length, target audience, selling point and detail\n",
        "content_template = \"\"\"\n",
        "You are a Youtube content expert, specialized in producing creative and attractive contents based on current trend.\n",
        "You are going to evaluate a proposal for a video and here is how you are going to evaluate it.\n",
        "\n",
        "First, here is a short description about the structure of the proposal. Given proposal contains title, genere, length, director's note and detail.\n",
        "\n",
        "Based on the sturecture, you are going to evaluate the proposal as follows\n",
        "Step1 Relations: You'll evaluate whether each part of the proposal is correlated or not. For example, title, genre, length, director's note and detail must be related and each part should be an explanation of other parts.\n",
        "Step2 Creativity: You'll evaluate whether this proposal is creative and can attract people's attention.\n",
        "\n",
        "Each step you should grade based on provided criteria.\n",
        "- Very good: 10\n",
        "- Good: 8\n",
        "- Average: 5\n",
        "- Poor: 3\n",
        "- Bad: 0\n",
        "\n",
        "After evaluation you only generate the grade as follow:\n",
        "[\n",
        "  {{\n",
        "    \"relations\": \"grade\",\n",
        "    \"creativity\": \"grade\"\n",
        "  }}\n",
        "]\n",
        "\n",
        "Here is the proposal.\n",
        "Proposal\n",
        "{proposal}\n",
        "\"\"\"\n",
        "\n",
        "# Step3 Relevance: the proposal must be related to target audience.\n",
        "def content_evaluation(proposal):\n",
        "  print(\"content check!\")\n",
        "  llm = ChatOpenAI(model='gpt-4o-mini', temperature=0.4)\n",
        "  prompt_template = ChatPromptTemplate.from_messages(\n",
        "    [(\"system\", content_template), (\"user\", \"{proposal}\")]\n",
        "  )\n",
        "  chain = prompt_template | llm | StrOutputParser()\n",
        "  print(chain.invoke({\"proposal\": proposal}))\n",
        "  return True"
      ],
      "metadata": {
        "id": "F7zl-DTvDREf"
      },
      "execution_count": 17,
      "outputs": []
    },
    {
      "cell_type": "markdown",
      "source": [
        "## Third Evaluation: Regulation\n"
      ],
      "metadata": {
        "id": "MwKVwiwNDRsm"
      }
    },
    {
      "cell_type": "code",
      "source": [
        "import os\n",
        "\n",
        "from langchain_openai import ChatOpenAI\n",
        "from langchain_core.prompts import ChatPromptTemplate\n",
        "from langchain_core.output_parsers import StrOutputParser\n",
        "\n",
        "os.environ['OPENAI_API_KEY'] = userdata.get('openAI')\n",
        "\n",
        "regulation_template = \"\"\"\n",
        "You are a social media expert, specialized in detecting innapropriate, harmful or dangerous proposal that can create innapropriate visual contents.\n",
        "You are going to evaluate a proposal for a video and here is how you are going to evaluate it.\n",
        "\n",
        "You have list of standards to judge whether given proposal is appropriate or not. The list also has examples of each standard.\n",
        "Based on the list you need to judge whether given proposal is appropriate or not.\n",
        "\n",
        "Since the given proposal is just a plan not a actual videos, it is okay for you to judge based on your assumption about the given proposal.\n",
        "\n",
        "Here is the list of standards.\n",
        "Matters concerning the description of the visual contents shall be confirmed by applying mutatis mutandis to the classification criteria of movies and videos and taking into account the overall context, but in particular, the following matters shall be noted. <Amendment 2012.7.31>\n",
        "1. Excessive description of the method, facial expression, sexual expression, excrement, etc. about sexual activity\n",
        "2. An inappropriate description of the hip, anastomosis, genital, pubic hair, or chest of men and women in detail or a direct and specific description of sexual behavior using the body or sexual instruments\n",
        "3. Describing sexual intercourse that is not acceptable by social norms (e.g., meditation, marriage, incest, sadism, sexual molestation, rape, etc.)\n",
        "4. Distorting sexual ethics, such as promoting sexual activity targeting juveniles or expressing human beings only as prostitution or sexual objects\n",
        "Article 11 (Violence)\n",
        "Matters concerning the violent description of visual contents shall be confirmed by applying mutatis mutandis to the classification criteria of movies and videos and taking into account the overall context, but the following matters shall be noted. <Amendment 2012.7.31>\n",
        "1. A specific description of a body damage scene or abandonment of a dead body (e.g., limb amputation, beheading, etc.)\n",
        "2. provocative descriptions or encouragement of scenes of cruel murder, assault, torture, etc\n",
        "3. To glorify or promote sexual violence, suicide, self-inflicted acts, or other physical or mental abuse\n",
        "4. John.Damage family ethics, including injury, assault and murder against profanity\n",
        "5. caricature, beautification, or detailed description of the methods of crime to encourage crime\n",
        "Article 12 (Anti-sociality)\n",
        "Matters concerning the description of antisociality of visual contents shall be confirmed by applying mutatis mutandis to the classification criteria of movies and videos and taking into account the overall context, but the following matters shall be noted. <Amendment 2012.7.31>\n",
        "1. Something that is likely to undermine sound values, such as gambling and the promotion of gambling\n",
        "2. Something that may distort historical facts or undermine the basic system of national and social existence and diplomatic relations between countries\n",
        "3. maliciously discriminating against or promoting prejudice against gender, religion, disability, age, social status, race, occupation, region, etc\n",
        "4. Promoting the use and production of harmful drugs, etc. by expressing the efficacy, manufacturing method, etc. of harmful drugs, etc. in detail\n",
        "5. Promoting youth employment and youth entry into harmful businesses for youth\n",
        "\n",
        "\n",
        "The given proposal is just a plan not a actual videos and it's in Korean.\n",
        "After your evaluation you only generate as follow:\n",
        "[\n",
        " {{\n",
        "  \"appropriate\": \"true or false\"\n",
        " }}\n",
        "]\n",
        "\n",
        "Here is the proposal.\n",
        "Proposal\n",
        "{proposal}\n",
        "\"\"\"\n",
        "def regulation_evaluation(proposal):\n",
        "  print(\"regulation check!\")\n",
        "  llm = ChatOpenAI(model='gpt-4o-mini', temperature=0.4)\n",
        "  prompt_template = ChatPromptTemplate.from_messages(\n",
        "    [(\"system\", regulation_template), (\"user\", \"{proposal}\")]\n",
        "  )\n",
        "  chain = prompt_template | llm | StrOutputParser()\n",
        "  print(chain.invoke({\"proposal\": proposal}))\n",
        "  return True"
      ],
      "metadata": {
        "id": "GOKAtIlmDR_T"
      },
      "execution_count": 32,
      "outputs": []
    },
    {
      "cell_type": "markdown",
      "source": [
        "## MVP Evaluation Bot\n"
      ],
      "metadata": {
        "id": "zD0VKbHrEoQ3"
      }
    },
    {
      "cell_type": "code",
      "source": [
        "def MVP_Evaluation_Bot(proposal):\n",
        "  if (not volume_evaluation(proposal)):\n",
        "    return False\n",
        "  if (not content_evaluation(proposal)):\n",
        "    return False\n",
        "  if (not regulation_evaluation(proposal)):\n",
        "    return False\n",
        "  return True"
      ],
      "metadata": {
        "id": "MnTL6MffEsPk"
      },
      "execution_count": 27,
      "outputs": []
    },
    {
      "cell_type": "markdown",
      "source": [
        "## Testing\n",
        "- proposal_type_one and harmful_proposal_type_one\n",
        "- proposal_type_two\n",
        "- proposal_type_three\n",
        "- proposal_type_four\n"
      ],
      "metadata": {
        "id": "uxsrII8EE31u"
      }
    },
    {
      "cell_type": "code",
      "source": [
        "# proposal_type_one\n",
        "print(\"정상\")\n",
        "MVP_Evaluation_Bot(proposal_type_one)\n",
        "print(\"비정상\")\n",
        "MVP_Evaluation_Bot(harmful_proposal_type_one)"
      ],
      "metadata": {
        "colab": {
          "base_uri": "https://localhost:8080/"
        },
        "id": "Vv7x4fz2E5cW",
        "outputId": "b6db69fb-10d6-416e-82c5-8de9df63fa91"
      },
      "execution_count": 33,
      "outputs": [
        {
          "output_type": "stream",
          "name": "stdout",
          "text": [
            "정상\n",
            "volume check!\n",
            "550\n",
            "content check!\n",
            "[\n",
            "  {\n",
            "    \"relations\": \"10\",\n",
            "    \"creativity\": \"8\"\n",
            "  }\n",
            "]\n",
            "regulation check!\n",
            "[\n",
            " {\n",
            "  \"appropriate\": \"true\"\n",
            " }\n",
            "]\n",
            "비정상\n",
            "volume check!\n",
            "225\n",
            "content check!\n",
            "[\n",
            "  {\n",
            "    \"relations\": 8,\n",
            "    \"creativity\": 9\n",
            "  }\n",
            "]\n",
            "regulation check!\n",
            "[\n",
            " {\n",
            "  \"appropriate\": \"false\"\n",
            " }\n",
            "]\n"
          ]
        },
        {
          "output_type": "execute_result",
          "data": {
            "text/plain": [
              "True"
            ]
          },
          "metadata": {},
          "execution_count": 33
        }
      ]
    }
  ]
}