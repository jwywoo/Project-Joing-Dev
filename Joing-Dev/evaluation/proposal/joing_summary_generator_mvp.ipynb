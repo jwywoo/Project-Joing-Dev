{
  "nbformat": 4,
  "nbformat_minor": 0,
  "metadata": {
    "colab": {
      "provenance": []
    },
    "kernelspec": {
      "name": "python3",
      "display_name": "Python 3"
    },
    "language_info": {
      "name": "python"
    }
  },
  "cells": [
    {
      "cell_type": "markdown",
      "source": [
        "## Google Colab"
      ],
      "metadata": {
        "id": "u7ykWwM0Qary"
      }
    },
    {
      "cell_type": "code",
      "execution_count": 1,
      "metadata": {
        "colab": {
          "base_uri": "https://localhost:8080/"
        },
        "id": "J2IYo4ck_RCM",
        "outputId": "24ec4333-a54c-4d54-d321-9c86e95270ca"
      },
      "outputs": [
        {
          "output_type": "stream",
          "name": "stdout",
          "text": [
            "Mounted at /content/drive\n"
          ]
        }
      ],
      "source": [
        "from google.colab import drive\n",
        "from google.colab import userdata\n",
        "drive.mount('/content/drive')"
      ]
    },
    {
      "cell_type": "markdown",
      "source": [
        "## Installation"
      ],
      "metadata": {
        "id": "pJ0ftvBQQdy9"
      }
    },
    {
      "cell_type": "code",
      "source": [
        "!pip install -qU tiktoken langchain-openai langchain langchainhub langchain-community"
      ],
      "metadata": {
        "colab": {
          "base_uri": "https://localhost:8080/"
        },
        "id": "oqZoMZmWKRBi",
        "outputId": "8213361f-8cf1-4640-ca91-0fbd5266903d"
      },
      "execution_count": 2,
      "outputs": [
        {
          "output_type": "stream",
          "name": "stdout",
          "text": [
            "\u001b[2K     \u001b[90m━━━━━━━━━━━━━━━━━━━━━━━━━━━━━━━━━━━━━━━━\u001b[0m \u001b[32m50.4/50.4 kB\u001b[0m \u001b[31m1.1 MB/s\u001b[0m eta \u001b[36m0:00:00\u001b[0m\n",
            "\u001b[2K   \u001b[90m━━━━━━━━━━━━━━━━━━━━━━━━━━━━━━━━━━━━━━━━\u001b[0m \u001b[32m1.2/1.2 MB\u001b[0m \u001b[31m21.5 MB/s\u001b[0m eta \u001b[36m0:00:00\u001b[0m\n",
            "\u001b[2K   \u001b[90m━━━━━━━━━━━━━━━━━━━━━━━━━━━━━━━━━━━━━━━━\u001b[0m \u001b[32m49.7/49.7 kB\u001b[0m \u001b[31m3.1 MB/s\u001b[0m eta \u001b[36m0:00:00\u001b[0m\n",
            "\u001b[2K   \u001b[90m━━━━━━━━━━━━━━━━━━━━━━━━━━━━━━━━━━━━━━━━\u001b[0m \u001b[32m1.0/1.0 MB\u001b[0m \u001b[31m33.8 MB/s\u001b[0m eta \u001b[36m0:00:00\u001b[0m\n",
            "\u001b[2K   \u001b[90m━━━━━━━━━━━━━━━━━━━━━━━━━━━━━━━━━━━━━━━━\u001b[0m \u001b[32m2.4/2.4 MB\u001b[0m \u001b[31m41.5 MB/s\u001b[0m eta \u001b[36m0:00:00\u001b[0m\n",
            "\u001b[2K   \u001b[90m━━━━━━━━━━━━━━━━━━━━━━━━━━━━━━━━━━━━━━━━\u001b[0m \u001b[32m407.2/407.2 kB\u001b[0m \u001b[31m20.0 MB/s\u001b[0m eta \u001b[36m0:00:00\u001b[0m\n",
            "\u001b[2K   \u001b[90m━━━━━━━━━━━━━━━━━━━━━━━━━━━━━━━━━━━━━━━━\u001b[0m \u001b[32m295.8/295.8 kB\u001b[0m \u001b[31m14.5 MB/s\u001b[0m eta \u001b[36m0:00:00\u001b[0m\n",
            "\u001b[2K   \u001b[90m━━━━━━━━━━━━━━━━━━━━━━━━━━━━━━━━━━━━━━━━\u001b[0m \u001b[32m383.7/383.7 kB\u001b[0m \u001b[31m15.5 MB/s\u001b[0m eta \u001b[36m0:00:00\u001b[0m\n",
            "\u001b[2K   \u001b[90m━━━━━━━━━━━━━━━━━━━━━━━━━━━━━━━━━━━━━━━━\u001b[0m \u001b[32m76.4/76.4 kB\u001b[0m \u001b[31m3.8 MB/s\u001b[0m eta \u001b[36m0:00:00\u001b[0m\n",
            "\u001b[2K   \u001b[90m━━━━━━━━━━━━━━━━━━━━━━━━━━━━━━━━━━━━━━━━\u001b[0m \u001b[32m78.0/78.0 kB\u001b[0m \u001b[31m4.0 MB/s\u001b[0m eta \u001b[36m0:00:00\u001b[0m\n",
            "\u001b[2K   \u001b[90m━━━━━━━━━━━━━━━━━━━━━━━━━━━━━━━━━━━━━━━━\u001b[0m \u001b[32m325.2/325.2 kB\u001b[0m \u001b[31m19.2 MB/s\u001b[0m eta \u001b[36m0:00:00\u001b[0m\n",
            "\u001b[2K   \u001b[90m━━━━━━━━━━━━━━━━━━━━━━━━━━━━━━━━━━━━━━━━\u001b[0m \u001b[32m49.3/49.3 kB\u001b[0m \u001b[31m2.5 MB/s\u001b[0m eta \u001b[36m0:00:00\u001b[0m\n",
            "\u001b[2K   \u001b[90m━━━━━━━━━━━━━━━━━━━━━━━━━━━━━━━━━━━━━━━━\u001b[0m \u001b[32m141.9/141.9 kB\u001b[0m \u001b[31m8.5 MB/s\u001b[0m eta \u001b[36m0:00:00\u001b[0m\n",
            "\u001b[2K   \u001b[90m━━━━━━━━━━━━━━━━━━━━━━━━━━━━━━━━━━━━━━━━\u001b[0m \u001b[32m54.5/54.5 kB\u001b[0m \u001b[31m3.0 MB/s\u001b[0m eta \u001b[36m0:00:00\u001b[0m\n",
            "\u001b[2K   \u001b[90m━━━━━━━━━━━━━━━━━━━━━━━━━━━━━━━━━━━━━━━━\u001b[0m \u001b[32m58.3/58.3 kB\u001b[0m \u001b[31m3.4 MB/s\u001b[0m eta \u001b[36m0:00:00\u001b[0m\n",
            "\u001b[?25h"
          ]
        }
      ]
    },
    {
      "cell_type": "markdown",
      "source": [
        "## Proposal to summarize"
      ],
      "metadata": {
        "id": "gzoSlRnPQf5P"
      }
    },
    {
      "cell_type": "code",
      "source": [
        "proposal_type_one = \"\"\"\n",
        "###\n",
        "\n",
        "**title:**\n",
        "\n",
        "이영지 X 오해원: 추억과 음악 속의 우정\n",
        "\n",
        "**Genre:**\n",
        "\n",
        "토크쇼 / 예능\n",
        "\n",
        "**Length:**\n",
        "\n",
        "40분\n",
        "\n",
        "**Director’s note:**\n",
        "\n",
        "이 영상은 이영지와 오해원이 만나, 그들의 오랜 우정을 바탕으로 다양한 주제에 대해 이야기하며 시청자들에게 공감과 웃음을 전달하는 것을 목표로 합니다. 초등학교 시절의 추억을 회상하며 시작해, 오해원의 음악적 컴백과 창작 과정, 예능에서의 활동까지 다루며 그들의 인간적인 매력과 진솔한 고민을 자연스럽게 나눕니다. 두 사람의 유쾌한 케미와 함께 시청자들이 음악과 인생에 대한 다양한 관점을 느낄 수 있도록 기획되었습니다.\n",
        "\n",
        "**Detail:**\n",
        "\n",
        "1. **인트로 (5분):**\n",
        "    - 두 사람의 첫 만남과 우정 이야기로 시작하며, 시청자들에게 그들의 관계를 자연스럽게 소개합니다. 초등학교 시절의 에피소드를 공유하면서 편안한 분위기를 형성합니다.\n",
        "2. **음악과 컴백 이야기 (10분):**\n",
        "    - 오해원이 최근 컴백을 준비하며 겪은 창작 과정과 음악적 고민을 나눕니다. 이영지는 오해원의 음악 활동을 응원하며, 두 사람이 음악을 통해 서로를 이해하고 성장하는 과정을 보여줍니다.\n",
        "3. **일상적인 대화와 유머 (10분):**\n",
        "    - 다이어트, 술자리, 연애 이야기 등 가볍고 유쾌한 주제를 다루며, 시청자들이 쉽게 공감할 수 있는 대화를 이어나갑니다. 이 부분에서 두 사람의 유머 감각과 자연스러운 케미가 돋보입니다.\n",
        "4. **깊이 있는 고민과 응원 (10분):**\n",
        "    - 두 사람은 각자의 예능 활동과 인생에서 느끼는 고민을 진지하게 나누며 서로에게 힘이 되어주는 순간을 공유합니다. 시청자들에게는 그들의 인간적인 면모와 진정성 있는 대화가 감동을 줍니다.\n",
        "5. **마무리 (5분):**\n",
        "    - 에피소드의 하이라이트를 정리하며, 서로에 대한 응원과 앞으로의 활동에 대한 기대감을 나눕니다. 자연스럽게 이어지는 음악과 함께 두 사람이 함께 노래를 부르는 장면으로 끝맺음합니다.\n",
        "\"\"\""
      ],
      "metadata": {
        "id": "FEkKFoShKlJd"
      },
      "execution_count": 3,
      "outputs": []
    },
    {
      "cell_type": "markdown",
      "source": [
        "## Summary Generator"
      ],
      "metadata": {
        "id": "ekdOPPMEQlZ2"
      }
    },
    {
      "cell_type": "code",
      "source": [
        "import os\n",
        "\n",
        "from langchain_openai import ChatOpenAI\n",
        "from langchain_core.prompts import ChatPromptTemplate\n",
        "from langchain_core.output_parsers import StrOutputParser\n",
        "\n",
        "os.environ['OPENAI_API_KEY'] = userdata.get('openAI')\n",
        "\n",
        "\n",
        "summary_prompt = \"\"\"\n",
        "You are a social media expert, specialized in writing a summary of a proposal.\n",
        "You are going write a summary of a proposal that contains title, genre, length, director's note and detail.\n",
        "\n",
        "Do not make up anything.\n",
        "\n",
        "You will generate a summary in the following format:\n",
        "{{\n",
        "  \"title\": In case of the title use the exact same one from the proposal,\n",
        "  \"content\": Based on the proposal write an one sentence that can explain the content and the detail of the proposal.\n",
        "  \"keyword\": Based on the proposal get at least 4 keywords that can explain the proposal.\n",
        "}}\n",
        "\n",
        "\"\"\"\n",
        "\n",
        "def summary_generate(proposal):\n",
        "  llm = ChatOpenAI(model='gpt-4o-mini', temperature=1)\n",
        "  prompt_template = ChatPromptTemplate.from_messages(\n",
        "    [(\"system\", summary_prompt), (\"user\", \"{proposal}\")]\n",
        "  )\n",
        "  chain = prompt_template | llm | StrOutputParser()\n",
        "  print(chain.invoke({\"proposal\": proposal}))\n",
        "  return None"
      ],
      "metadata": {
        "id": "43S49L_rLCwH"
      },
      "execution_count": 7,
      "outputs": []
    },
    {
      "cell_type": "markdown",
      "source": [
        "## Testing"
      ],
      "metadata": {
        "id": "C6DX3IfoLHAu"
      }
    },
    {
      "cell_type": "code",
      "source": [
        "summary_generate(proposal_type_one)"
      ],
      "metadata": {
        "colab": {
          "base_uri": "https://localhost:8080/"
        },
        "id": "h6sq9U9yLfz6",
        "outputId": "f9bfe67b-ffcc-4ece-e770-b545269acd7c"
      },
      "execution_count": 8,
      "outputs": [
        {
          "output_type": "stream",
          "name": "stdout",
          "text": [
            "{\n",
            "  \"title\": \"이영지 X 오해원: 추억과 음악 속의 우정\",\n",
            "  \"content\": \"이 영상은 이영지와 오해원이 오랜 우정을 바탕으로 음악, 일상, 그리고 서로의 고민을 나누며 시청자들에게 진솔한 공감과 웃음을 전달하는 40분짜리 토크쇼입니다.\",\n",
            "  \"keyword\": [\"우정\", \"음악\", \"토크쇼\", \"감동\"]\n",
            "}\n"
          ]
        }
      ]
    }
  ]
}